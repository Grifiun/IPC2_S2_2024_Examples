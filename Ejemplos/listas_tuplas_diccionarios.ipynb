{
 "cells": [
  {
   "cell_type": "markdown",
   "metadata": {},
   "source": [
    "## Tuplas"
   ]
  },
  {
   "cell_type": "code",
   "execution_count": 2,
   "metadata": {},
   "outputs": [
    {
     "name": "stdout",
     "output_type": "stream",
     "text": [
      "(1, 2, 'Hola a todos', ('Segunda tupla elemento 1', 'Mucho contenido'), 'Ultimo valor')\n"
     ]
    }
   ],
   "source": [
    "# Una tupla es un objeto inmutable, no pueden cambiar los datos una vez definidos\n",
    "\n",
    "tupla = (1, 2, \"Hola a todos\", (\"Segunda tupla elemento 1\", \"Mucho contenido\"), \"Ultimo valor\")\n",
    "print (tupla)"
   ]
  },
  {
   "cell_type": "code",
   "execution_count": 63,
   "metadata": {},
   "outputs": [
    {
     "name": "stdout",
     "output_type": "stream",
     "text": [
      "1\n",
      "Ultimo valor\n",
      "('Hola a todos', ('Segunda tupla elemento 1', 'Mucho contenido'))\n",
      "(2, 'Hola a todos')\n",
      "Hola a todos\n"
     ]
    }
   ],
   "source": [
    "# Acceso a tuplas\n",
    "# Inicia en la posición 0 en adelante, y -1 indica el último valor\n",
    "print(tupla[0]) # posición 0\n",
    "\n",
    "print(tupla[-1]) # Ultima posicion\n",
    "\n",
    "print(tupla[-3:-1])\n",
    "\n",
    "print(tupla[1:3]) # se puede usar X:Y para indicar de rango X hasta Y\n",
    "\n",
    "print(tupla[-3]) # Hola a todos"
   ]
  },
  {
   "cell_type": "code",
   "execution_count": 4,
   "metadata": {},
   "outputs": [
    {
     "name": "stdout",
     "output_type": "stream",
     "text": [
      "('Segunda tupla elemento 1', 'Mucho contenido')\n"
     ]
    }
   ],
   "source": [
    "# Adicional a eso, si seguimos haciendo más pequeño el numero negativo como -2\n",
    "print(tupla[-2]) # Penúltima posicion\n",
    "# esta tupla resultante es el penúltimo elemento de la tupla principal"
   ]
  },
  {
   "cell_type": "code",
   "execution_count": 5,
   "metadata": {},
   "outputs": [
    {
     "name": "stdout",
     "output_type": "stream",
     "text": [
      "(('Segunda tupla elemento 1', 'Mucho contenido'), 'Ultimo valor')\n",
      "(1, 2, 'Hola a todos', ('Segunda tupla elemento 1', 'Mucho contenido'), 'Ultimo valor')\n"
     ]
    }
   ],
   "source": [
    "print(tupla[3:])\n",
    "\n",
    "print(tupla[:])"
   ]
  },
  {
   "cell_type": "code",
   "execution_count": 33,
   "metadata": {},
   "outputs": [
    {
     "name": "stdout",
     "output_type": "stream",
     "text": [
      "Estos son los valores de la tuplaXYZ:  ('x', 'z', 'y')\n",
      "Valor de x :  x\n",
      "Valor de y :  z\n",
      "Valor de z :  y\n"
     ]
    }
   ],
   "source": [
    "# Asignar valores de una tupla a variables\n",
    "tuplaXYZ = (\"x\", \"z\", \"y\")\n",
    "x, y, z = tuplaXYZ\n",
    "print(\"Estos son los valores de la tuplaXYZ: \", tuplaXYZ)\n",
    "print(\"Valor de x : \", x)\n",
    "print(\"Valor de y : \", y)\n",
    "print(\"Valor de z : \", z)"
   ]
  },
  {
   "cell_type": "code",
   "execution_count": 36,
   "metadata": {},
   "outputs": [
    {
     "name": "stdout",
     "output_type": "stream",
     "text": [
      "(1, 2, 3, 4, 5, 6)\n"
     ]
    }
   ],
   "source": [
    "# Crear una tupla a partir de 2 tuplas\n",
    "tupla1 = (1, 2, 3)\n",
    "tupla2 = (4, 5, 6)\n",
    "tupla3 = tupla1 + tupla2\n",
    "print(tupla3)"
   ]
  },
  {
   "cell_type": "code",
   "execution_count": 37,
   "metadata": {},
   "outputs": [
    {
     "name": "stdout",
     "output_type": "stream",
     "text": [
      "Se repite < 4 > veces el numero 2\n"
     ]
    }
   ],
   "source": [
    "# Contar las ocurrencias de un elemento en una tupla\n",
    "tupla_concurrencia = (1, 1, 1, 3, 3, 2, 2, 2, 2)\n",
    "print(\"Se repite <\", tupla_concurrencia.count(2), \"> veces el numero 2\")"
   ]
  },
  {
   "cell_type": "code",
   "execution_count": 38,
   "metadata": {},
   "outputs": [
    {
     "name": "stdout",
     "output_type": "stream",
     "text": [
      "5\n"
     ]
    }
   ],
   "source": [
    "# Mostrar el índice de la primera ocurrencia de un elemento\n",
    "print(tupla_concurrencia.index(2))"
   ]
  },
  {
   "cell_type": "markdown",
   "metadata": {},
   "source": [
    "## Listas"
   ]
  },
  {
   "cell_type": "code",
   "execution_count": 10,
   "metadata": {},
   "outputs": [
    {
     "name": "stdout",
     "output_type": "stream",
     "text": [
      "[1, 2, 'Hola a todos', ['Segunda lista elemento 1', 'Mucho contenido'], 'Ultimo valor']\n"
     ]
    }
   ],
   "source": [
    "# Una lista es un objeto mutable, se pueden cambiar los datos después de definidos\n",
    "\n",
    "lista = [1, 2, \"Hola a todos\", [\"Segunda lista elemento 1\", \"Mucho contenido\"], \"Ultimo valor\"]\n",
    "print(lista)"
   ]
  },
  {
   "cell_type": "code",
   "execution_count": 11,
   "metadata": {},
   "outputs": [
    {
     "name": "stdout",
     "output_type": "stream",
     "text": [
      "1\n",
      "Ultimo valor\n",
      "[2, 'Hola a todos']\n"
     ]
    }
   ],
   "source": [
    "# Acceso a listas\n",
    "# Inicia en la posición 0 en adelante, y -1 indica el último valor\n",
    "print(lista[0])  # posición 0\n",
    "\n",
    "print(lista[-1])  # Ultima posicion\n",
    "\n",
    "print(lista[1:3])  # se puede usar X:Y para indicar de rango X hasta Y"
   ]
  },
  {
   "cell_type": "code",
   "execution_count": 12,
   "metadata": {},
   "outputs": [
    {
     "name": "stdout",
     "output_type": "stream",
     "text": [
      "['Segunda lista elemento 1', 'Mucho contenido']\n"
     ]
    }
   ],
   "source": [
    "# Adicional a eso, si seguimos haciendo más pequeño el numero negativo como -2\n",
    "print(lista[-2])  # Penúltima posicion"
   ]
  },
  {
   "cell_type": "code",
   "execution_count": 13,
   "metadata": {},
   "outputs": [
    {
     "name": "stdout",
     "output_type": "stream",
     "text": [
      "Estos son los valores de la listaXYZ:  ['x', 'y', 'z']\n",
      "Valor de x :  x\n",
      "Valor de y :  y\n",
      "Valor de z :  z\n"
     ]
    }
   ],
   "source": [
    "# Asignar valores de una lista a variables\n",
    "listaXYZ = [\"x\", \"y\", \"z\"]\n",
    "x, y, z = listaXYZ\n",
    "print(\"Estos son los valores de la listaXYZ: \", listaXYZ)\n",
    "print(\"Valor de x : \", x)\n",
    "print(\"Valor de y : \", y)\n",
    "print(\"Valor de z : \", z)"
   ]
  },
  {
   "cell_type": "code",
   "execution_count": 40,
   "metadata": {},
   "outputs": [
    {
     "name": "stdout",
     "output_type": "stream",
     "text": [
      "[1, 2, 3, 4, 5, 6]\n"
     ]
    }
   ],
   "source": [
    "\n",
    "# Crear una lista a partir de 2 listas\n",
    "lista1 = [1, 2, 3]\n",
    "lista2 = [4, 5, 6]\n",
    "lista3 = lista1 + lista2\n",
    "print(lista3)"
   ]
  },
  {
   "cell_type": "code",
   "execution_count": 41,
   "metadata": {},
   "outputs": [
    {
     "name": "stdout",
     "output_type": "stream",
     "text": [
      "2\n"
     ]
    }
   ],
   "source": [
    "# Contar las ocurrencias de un elemento en una lista\n",
    "lista_concurrencia = [1, 1, 1, 3, 3, 2, 2, 2, 2]\n",
    "print(lista_concurrencia.count(3))"
   ]
  },
  {
   "cell_type": "code",
   "execution_count": 16,
   "metadata": {},
   "outputs": [
    {
     "name": "stdout",
     "output_type": "stream",
     "text": [
      "5\n"
     ]
    }
   ],
   "source": [
    "# Mostrar el índice de la primera ocurrencia de un elemento\n",
    "print(lista_concurrencia.index(2))"
   ]
  },
  {
   "cell_type": "markdown",
   "metadata": {},
   "source": [
    "## Listas vs Tuplas mutabilidad"
   ]
  },
  {
   "cell_type": "markdown",
   "metadata": {},
   "source": [
    "### Lista mutable"
   ]
  },
  {
   "cell_type": "code",
   "execution_count": 17,
   "metadata": {},
   "outputs": [
    {
     "name": "stdout",
     "output_type": "stream",
     "text": [
      "Lista original: [1, 2, 3, 4, 5]\n",
      "Lista después de la modificación: [1, 2, 10, 4, 5]\n",
      "Lista después de agregar un elemento: [1, 2, 10, 4, 5, 6]\n",
      "Lista después de eliminar un elemento: [1, 10, 4, 5, 6]\n"
     ]
    }
   ],
   "source": [
    "# Lista mutable\n",
    "lista_mut = [1, 2, 3, 4, 5]\n",
    "print(\"Lista original:\", lista_mut)\n",
    "\n",
    "# Modificar un elemento de la lista\n",
    "lista_mut[2] = 10\n",
    "print(\"Lista después de la modificación:\", lista_mut)\n",
    "\n",
    "# Añadir un nuevo elemento a la lista\n",
    "lista_mut.append(6)\n",
    "print(\"Lista después de agregar un elemento:\", lista_mut)\n",
    "\n",
    "# Eliminar un elemento de la lista\n",
    "del lista_mut[1]\n",
    "print(\"Lista después de eliminar un elemento:\", lista_mut)"
   ]
  },
  {
   "cell_type": "code",
   "execution_count": 18,
   "metadata": {},
   "outputs": [
    {
     "name": "stdout",
     "output_type": "stream",
     "text": [
      "Lista original mut 2: [6, 7, 8]\n",
      "Lista original: [1, 2, 3, 4, 5]\n",
      "Lista después de la modificación: [1, 2, 3, 4, 5, 6, 7, 8]\n"
     ]
    }
   ],
   "source": [
    "# Agregar el contenido de una lista a otra\n",
    "lista_mut_2 = [6, 7, 8]\n",
    "print(\"Lista original mut 2:\", lista_mut_2)\n",
    "\n",
    "# Lista mutable\n",
    "lista_mut = [1, 2, 3, 4, 5]\n",
    "\n",
    "print(\"Lista original:\", lista_mut)\n",
    "\n",
    "# Modificar un elemento de la lista\n",
    "lista_mut.extend(lista_mut_2)\n",
    "print(\"Lista después de la modificación:\", lista_mut)"
   ]
  },
  {
   "cell_type": "markdown",
   "metadata": {},
   "source": [
    "### Tupla inmutable"
   ]
  },
  {
   "cell_type": "code",
   "execution_count": 43,
   "metadata": {},
   "outputs": [
    {
     "name": "stdout",
     "output_type": "stream",
     "text": [
      "\n",
      "Tupla original: (1, 2, 3, 4, 5)\n",
      "Error al intentar modificar la tupla: 'tuple' object does not support item assignment\n",
      "Error al intentar agregar un elemento a la tupla: 'tuple' object has no attribute 'append'\n",
      "Error al intentar eliminar un elemento de la tupla: 'tuple' object doesn't support item deletion\n"
     ]
    }
   ],
   "source": [
    "# Tupla inmutable\n",
    "tupla_imm = (1, 2, 3, 4, 5)\n",
    "print(\"\\nTupla original:\", tupla_imm)\n",
    "\n",
    "# Intentar modificar un elemento de la tupla generará un error\n",
    "try:\n",
    "    tupla_imm[2] = 10  # Esto generará un TypeError\n",
    "except TypeError as e:\n",
    "    print(\"Error al intentar modificar la tupla:\", e)\n",
    "\n",
    "# Intentar agregar un nuevo elemento a la tupla generará un error\n",
    "try:\n",
    "    tupla_imm.append(6)  # Esto generará un AttributeError\n",
    "except AttributeError as e:\n",
    "    print(\"Error al intentar agregar un elemento a la tupla:\", e)\n",
    "\n",
    "# Intentar eliminar un elemento de la tupla generará un error\n",
    "try:\n",
    "    del tupla_imm[1]  # Esto generará un TypeError\n",
    "except TypeError as e:\n",
    "    print(\"Error al intentar eliminar un elemento de la tupla:\", e)"
   ]
  },
  {
   "cell_type": "markdown",
   "metadata": {},
   "source": [
    "### Iterar sobre listas "
   ]
  },
  {
   "cell_type": "code",
   "execution_count": 47,
   "metadata": {},
   "outputs": [
    {
     "name": "stdout",
     "output_type": "stream",
     "text": [
      "for normal:  0\n",
      "for normal:  2\n",
      "for normal:  4\n",
      "for normal:  6\n",
      "for normal:  8\n",
      "1\n",
      "2\n",
      "3\n",
      "4\n",
      "5\n"
     ]
    }
   ],
   "source": [
    "# Crear una lista\n",
    "mi_lista = [1, 2, 3, 4, 5]\n",
    "\n",
    "for i in range(0, 10, 2):\n",
    "    print(\"for normal: \", i)\n",
    "\n",
    "# Iterar sobre la lista e imprimir cada elemento\n",
    "for elemento in mi_lista:\n",
    "    print(elemento)\n"
   ]
  },
  {
   "cell_type": "markdown",
   "metadata": {},
   "source": [
    "### Iterar sobre tuplas"
   ]
  },
  {
   "cell_type": "code",
   "execution_count": 21,
   "metadata": {},
   "outputs": [
    {
     "name": "stdout",
     "output_type": "stream",
     "text": [
      "10\n",
      "20\n",
      "30\n",
      "40\n",
      "50\n"
     ]
    }
   ],
   "source": [
    "# Crear una tupla\n",
    "mi_tupla = (10, 20, 30, 40, 50)\n",
    "\n",
    "# Iterar sobre la tupla e imprimir cada elemento\n",
    "for elemento in mi_tupla:\n",
    "    print(elemento)"
   ]
  },
  {
   "cell_type": "markdown",
   "metadata": {},
   "source": [
    "## Diccionarios"
   ]
  },
  {
   "cell_type": "markdown",
   "metadata": {},
   "source": [
    "##### 1. **Diccionario Básico:**"
   ]
  },
  {
   "cell_type": "code",
   "execution_count": 22,
   "metadata": {},
   "outputs": [
    {
     "name": "stdout",
     "output_type": "stream",
     "text": [
      "{'nombre': 'Juan', 'edad': 20, 'curso': 'Matemáticas'}\n"
     ]
    }
   ],
   "source": [
    "estudiante = {\n",
    "    \"nombre\": \"Juan\",\n",
    "    \"edad\": 20,\n",
    "    \"curso\": \"Matemáticas\"\n",
    "}\n",
    "print(estudiante)"
   ]
  },
  {
   "cell_type": "markdown",
   "metadata": {},
   "source": [
    "##### 2. **Diccionario Anidado:**"
   ]
  },
  {
   "cell_type": "code",
   "execution_count": 67,
   "metadata": {},
   "outputs": [
    {
     "name": "stdout",
     "output_type": "stream",
     "text": [
      "{'estudiantes': {'Juan': {'edad': 20, 'curso': 'Matemáticas'}, 'Ana': {'edad': 22, 'curso': 'Historia'}, '2018300001': {'nombre': 'Juan', 'edad': 20, 'curso': 'Matemáticas'}}, 'profesores': {'Dr. Pérez': {'departamento': 'Matemáticas'}, 'Prof. Gómez': {'departamento': 'Historia'}}}\n",
      "{'departamento': 'Matemáticas'}\n",
      "Matemáticas\n"
     ]
    }
   ],
   "source": [
    "universidad = {\n",
    "    \"estudiantes\": {\n",
    "        \"Juan\": {\"edad\": 20, \"curso\": \"Matemáticas\"},\n",
    "        \"Ana\": {\"edad\": 22, \"curso\": \"Historia\"},\n",
    "        \"2018300001\": estudiante\n",
    "    },\n",
    "    \"profesores\": {\n",
    "        \"Dr. Pérez\": {\"departamento\": \"Matemáticas\"},\n",
    "        \"Prof. Gómez\": {\"departamento\": \"Historia\"}\n",
    "    }\n",
    "}\n",
    "print(universidad)\n",
    "\n",
    "print(universidad[\"profesores\"][\"Dr. Pérez\"])\n",
    "\n",
    "print(universidad[\"estudiantes\"][\"Juan\"][\"curso\"])"
   ]
  },
  {
   "cell_type": "markdown",
   "metadata": {},
   "source": [
    "##### 3. **Uso de Diccionario para Contar Ocurrencias:**"
   ]
  },
  {
   "cell_type": "code",
   "execution_count": 56,
   "metadata": {},
   "outputs": [
    {
     "name": "stdout",
     "output_type": "stream",
     "text": [
      "{'p': 1, 'y': 1, 't': 2, 'h': 1, 'o': 2, 'n': 1, 'e': 2, 's': 1, 'd': 2, 'i': 2, 'v': 1, 'r': 1}\n",
      "{'l': 7, 'o': 13, 'r': 6, 'e': 14, 'm': 8, 'i': 6, 'p': 3, 's': 5, 'u': 6, 'a': 8, 'c': 5, 'h': 3, 'd': 4, 't': 12, 'x': 1, 'n': 9, 'y': 3, 'v': 1, 'f': 4, 'w': 1, 'g': 2}\n"
     ]
    }
   ],
   "source": [
    "def conteo_letras(frase):\n",
    "    conteo_letras = {}\n",
    "    for letra in frase:\n",
    "        if letra.isalpha():\n",
    "            letra = letra.lower()\n",
    "            conteo_letras[letra] = conteo_letras.get(letra, 0) + 1\n",
    "\n",
    "    return conteo_letras\n",
    "\n",
    "\n",
    "\n",
    "print(conteo_letras(\"python es divertido\"))\n",
    "print(conteo_letras(\"Lorem ipsum is a placeholder text commonly used to demonstrate the visual form of a document or a typeface without relying on meaningful content.\"))"
   ]
  },
  {
   "cell_type": "markdown",
   "metadata": {},
   "source": [
    "##### 4. **Diccionario con Listas:**"
   ]
  },
  {
   "cell_type": "code",
   "execution_count": 25,
   "metadata": {},
   "outputs": [
    {
     "name": "stdout",
     "output_type": "stream",
     "text": [
      "{'nombre': 'Programación', 'alumnos': ['Juan', 'Ana', 'Carlos'], 'profesor': 'Dr. Rodríguez'}\n"
     ]
    }
   ],
   "source": [
    "curso = {\n",
    "    \"nombre\": \"Programación\",\n",
    "    \"alumnos\": [\"Juan\", \"Ana\", \"Carlos\"],\n",
    "    \"profesor\": \"Dr. Rodríguez\"\n",
    "}\n",
    "print(curso)"
   ]
  },
  {
   "cell_type": "markdown",
   "metadata": {},
   "source": [
    "##### 5. **Diccionario con Tuplas:** "
   ]
  },
  {
   "cell_type": "code",
   "execution_count": 26,
   "metadata": {},
   "outputs": [
    {
     "name": "stdout",
     "output_type": "stream",
     "text": [
      "{'amigos': [('Juan', '123456'), ('Ana', '789012')], 'familia': [('Mamá', '111111'), ('Papá', '222222')]}\n"
     ]
    }
   ],
   "source": [
    "contactos = {\n",
    "       \"amigos\": [(\"Juan\", \"123456\"), (\"Ana\", \"789012\")],\n",
    "       \"familia\": [(\"Mamá\", \"111111\"), (\"Papá\", \"222222\")]\n",
    "   }\n",
    "print(contactos)"
   ]
  },
  {
   "cell_type": "markdown",
   "metadata": {},
   "source": [
    "##### 6. **Diccionario con Funciones:**"
   ]
  },
  {
   "cell_type": "code",
   "execution_count": 68,
   "metadata": {},
   "outputs": [
    {
     "name": "stdout",
     "output_type": "stream",
     "text": [
      "El cuadrado de 5 es:  25\n",
      "El cuadrado de 5 es:  25\n",
      "El doble de 5 es:  10\n",
      "La mitad de 8 es:  4.0\n",
      "La suma de 1 y 2 es:  3\n"
     ]
    }
   ],
   "source": [
    "def cuadrado(x):\n",
    "    return x * x\n",
    "\n",
    "operaciones = {\n",
    "    \"cuadrado\": cuadrado,\n",
    "    \"cuadrado_lambda\": lambda x: x * x,\n",
    "    \"doble\": lambda x: x * 2,\n",
    "    \"mitad\": lambda x: x / 2,\n",
    "    \"suma\": lambda n1, n2: n1 + n2,\n",
    "}\n",
    "\n",
    "# Imprimir el resultado de la función \"doble\"\n",
    "print(\"El cuadrado de 5 es: \", operaciones[\"cuadrado\"](5))  # Salida: 10, funcion(paramentros)\n",
    "\n",
    "# Imprimir el resultado de la función \"doble\"\n",
    "print(\"El cuadrado de 5 es: \", operaciones[\"cuadrado_lambda\"](5))  # Salida: 10\n",
    "\n",
    "# Imprimir el resultado de la función \"doble\"\n",
    "print(\"El doble de 5 es: \", operaciones[\"doble\"](5))  # Salida: 10\n",
    "\n",
    "# Imprimir el resultado de la función \"mitad\"\n",
    "print(\"La mitad de 8 es: \", operaciones[\"mitad\"](8))  # Salida: 4.0\n",
    "\n",
    "# Imprimir el resultado de la función \"suma\"\n",
    "print(\"La suma de 1 y 2 es: \", operaciones[\"suma\"](1, 2))  # Salida: 4.0, funcionNombre(parametro)"
   ]
  },
  {
   "cell_type": "markdown",
   "metadata": {},
   "source": [
    "##### 7. **Diccionario con Diccionarios Internos:**"
   ]
  },
  {
   "cell_type": "code",
   "execution_count": 28,
   "metadata": {},
   "outputs": [
    {
     "name": "stdout",
     "output_type": "stream",
     "text": [
      "{'libro1': {'titulo': 'Python 101', 'autor': 'A. Smith'}, 'libro2': {'titulo': 'Data Science Intro', 'autor': 'B. Johnson'}}\n"
     ]
    }
   ],
   "source": [
    "libros = {\n",
    "    \"libro1\": {\"titulo\": \"Python 101\", \"autor\": \"A. Smith\"},\n",
    "    \"libro2\": {\"titulo\": \"Data Science Intro\", \"autor\": \"B. Johnson\"}\n",
    "}\n",
    "print(libros)"
   ]
  },
  {
   "cell_type": "markdown",
   "metadata": {},
   "source": [
    "##### 8. **Diccionario para Configuración:**"
   ]
  },
  {
   "cell_type": "code",
   "execution_count": 29,
   "metadata": {},
   "outputs": [
    {
     "name": "stdout",
     "output_type": "stream",
     "text": [
      "{'idioma': 'es', 'tema': 'oscuro', 'tamaño_fuente': 14}\n"
     ]
    }
   ],
   "source": [
    "configuracion = {\n",
    "    \"idioma\": \"es\",\n",
    "    \"tema\": \"oscuro\",\n",
    "    \"tamaño_fuente\": 14\n",
    "}\n",
    "print(configuracion)"
   ]
  },
  {
   "cell_type": "markdown",
   "metadata": {},
   "source": [
    "Estos son solo ejemplos para ilustrar diversas formas en las que puedes usar diccionarios en Python. Los diccionarios son flexibles y pueden adaptarse a una variedad de situaciones en las que necesitas mapear claves a valores."
   ]
  },
  {
   "cell_type": "markdown",
   "metadata": {},
   "source": [
    "### 9. Iteracion"
   ]
  },
  {
   "cell_type": "code",
   "execution_count": 61,
   "metadata": {},
   "outputs": [
    {
     "name": "stdout",
     "output_type": "stream",
     "text": [
      "Cantidad de elementos en el diccionario <mi_diccionario>: 3\n",
      "La clave 'clave2' está presente en el diccionario\n",
      "La clave 'dinosaurio' no está presente en el diccionario\n"
     ]
    }
   ],
   "source": [
    "mi_diccionario = {\"clave1\": 1, \"clave2\": 2, \"clave3\": 3}\n",
    "\n",
    "# Longitud del diccionario\n",
    "cantidad_elementos = len(mi_diccionario)\n",
    "print(f\"Cantidad de elementos en el diccionario <mi_diccionario>: {cantidad_elementos}\")\n",
    "\n",
    "def presente_dicc(diccionario, clave):\n",
    "    # Verificar si una clave está presente\n",
    "    if clave in diccionario:\n",
    "        print(f\"La clave '{clave}' está presente en el diccionario\")\n",
    "    else:\n",
    "        print(f\"La clave '{clave}' no está presente en el diccionario\")\n",
    "\n",
    "presente_dicc(mi_diccionario, 'clave2')\n",
    "presente_dicc(mi_diccionario, 'dinosaurio')"
   ]
  },
  {
   "cell_type": "code",
   "execution_count": 31,
   "metadata": {},
   "outputs": [
    {
     "name": "stdout",
     "output_type": "stream",
     "text": [
      "Diccionario después de agregar 'nueva_clave': {'clave1': 1, 'clave2': 2, 'clave3': 3, 'nueva_clave': 4}\n",
      "Diccionario después de actualizar 'clave1': {'clave1': 10, 'clave2': 2, 'clave3': 3, 'nueva_clave': 4}\n",
      "clave1\n",
      "clave2\n",
      "clave3\n",
      "nueva_clave\n",
      "10\n",
      "2\n",
      "3\n",
      "4\n",
      "clave1 10\n",
      "clave2 2\n",
      "clave3 3\n",
      "nueva_clave 4\n"
     ]
    }
   ],
   "source": [
    "# Agregar un nuevo elemento\n",
    "mi_diccionario[\"nueva_clave\"] = 4\n",
    "print(\"Diccionario después de agregar 'nueva_clave':\", mi_diccionario)\n",
    "\n",
    "# Actualizar un valor existente\n",
    "mi_diccionario[\"clave1\"] = 10\n",
    "print(\"Diccionario después de actualizar 'clave1':\", mi_diccionario)\n",
    "\n",
    "# Iterar sobre claves\n",
    "for clave in mi_diccionario:\n",
    "    print(clave)\n",
    "\n",
    "# Iterar sobre valores\n",
    "for valor in mi_diccionario.values():\n",
    "    print(valor)\n",
    "\n",
    "# Iterar sobre pares clave-valor\n",
    "for clave, valor in mi_diccionario.items():\n",
    "    print(clave, valor)"
   ]
  },
  {
   "cell_type": "code",
   "execution_count": 32,
   "metadata": {},
   "outputs": [
    {
     "name": "stdout",
     "output_type": "stream",
     "text": [
      "Elemento con clave 'clave3' eliminado. Diccionario resultante: {'clave1': 10, 'clave2': 2, 'nueva_clave': 4}\n",
      "\n",
      "Iterar sobre claves:\n",
      "clave1\n",
      "clave2\n",
      "nueva_clave\n",
      "\n",
      "Iterar sobre valores:\n",
      "10\n",
      "2\n",
      "4\n",
      "\n",
      "Iterar sobre pares clave-valor:\n",
      "clave1 10\n",
      "clave2 2\n",
      "nueva_clave 4\n"
     ]
    }
   ],
   "source": [
    "# Eliminar un elemento por clave\n",
    "clave_a_eliminar = \"clave3\"\n",
    "if clave_a_eliminar in mi_diccionario:\n",
    "    del mi_diccionario[clave_a_eliminar]\n",
    "    print(f\"Elemento con clave '{clave_a_eliminar}' eliminado. Diccionario resultante:\", mi_diccionario)\n",
    "\n",
    "# Iterar sobre claves\n",
    "print(\"\\nIterar sobre claves:\")\n",
    "for clave in mi_diccionario:\n",
    "    print(clave)\n",
    "\n",
    "# Iterar sobre valores\n",
    "print(\"\\nIterar sobre valores:\")\n",
    "for valor in mi_diccionario.values():\n",
    "    print(valor)\n",
    "\n",
    "# Iterar sobre pares clave-valor\n",
    "print(\"\\nIterar sobre pares clave-valor:\")\n",
    "for clave, valor in mi_diccionario.items():\n",
    "    print(clave, valor)"
   ]
  }
 ],
 "metadata": {
  "kernelspec": {
   "display_name": "Python 3",
   "language": "python",
   "name": "python3"
  },
  "language_info": {
   "codemirror_mode": {
    "name": "ipython",
    "version": 3
   },
   "file_extension": ".py",
   "mimetype": "text/x-python",
   "name": "python",
   "nbconvert_exporter": "python",
   "pygments_lexer": "ipython3",
   "version": "3.12.1"
  }
 },
 "nbformat": 4,
 "nbformat_minor": 2
}

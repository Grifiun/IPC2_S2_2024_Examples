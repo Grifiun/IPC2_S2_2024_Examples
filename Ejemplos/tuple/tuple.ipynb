{
 "cells": [
  {
   "cell_type": "code",
   "execution_count": 3,
   "metadata": {},
   "outputs": [
    {
     "name": "stdout",
     "output_type": "stream",
     "text": [
      "(1, 2, 'Hola a todos', ('Segunda tupla elemento 1', 'Mucho contenido'), 'Ultimo valor')\n"
     ]
    }
   ],
   "source": [
    "# Una tupla es un objeto inmutable, no pueden cambiar los datos una vez definidos\n",
    "\n",
    "\n",
    "tupla = (1, 2, \"Hola a todos\", (\"Segunda tupla elemento 1\", \"Mucho contenido\"), \"Ultimo valor\")\n",
    "print (tupla)"
   ]
  },
  {
   "cell_type": "code",
   "execution_count": 4,
   "metadata": {},
   "outputs": [
    {
     "name": "stdout",
     "output_type": "stream",
     "text": [
      "1\n",
      "Ultimo valor\n",
      "(2, 'Hola a todos')\n"
     ]
    }
   ],
   "source": [
    "# Acceso a tuplas\n",
    "# Inicia en la posición 0 en adelante, y -1 indica el último valor\n",
    "print(tupla[0]) # posición 0\n",
    "\n",
    "print(tupla[-1]) # Ultima posicion\n",
    "\n",
    "print(tupla[1:3]) # se puede usar X:Y para indicar de rango X hasta Y"
   ]
  },
  {
   "cell_type": "code",
   "execution_count": 5,
   "metadata": {},
   "outputs": [
    {
     "name": "stdout",
     "output_type": "stream",
     "text": [
      "('Segunda tupla elemento 1', 'Mucho contenido')\n"
     ]
    },
    {
     "data": {
      "text/plain": [
       "\"\\nSalida: esta tupla resultante es el penúltimo elemento de la tupla principal\\n('Segunda tupla elemento 1', 'Mucho contenido')\\n\""
      ]
     },
     "execution_count": 5,
     "metadata": {},
     "output_type": "execute_result"
    }
   ],
   "source": [
    "# Adicional a eso, si seguimos haciendo más pequeño el numero negativo como -2\n",
    "print(tupla[-2]) # Penúltima posicion\n",
    "\"\"\"\n",
    "Salida: esta tupla resultante es el penúltimo elemento de la tupla principal\n",
    "('Segunda tupla elemento 1', 'Mucho contenido')\n",
    "\"\"\""
   ]
  },
  {
   "cell_type": "code",
   "execution_count": 6,
   "metadata": {},
   "outputs": [
    {
     "name": "stdout",
     "output_type": "stream",
     "text": [
      "Estos son los valores de la tuplaXYZ:  ('x', 'y', 'z')\n",
      "Valor de x :  x\n",
      "Valor de y :  y\n",
      "Valor de z :  z\n"
     ]
    }
   ],
   "source": [
    "# Asignar valores de una tupla a variables\n",
    "tuplaXYZ = (\"x\", \"y\", \"z\")\n",
    "x, y, z = tuplaXYZ\n",
    "print(\"Estos son los valores de la tuplaXYZ: \", tuplaXYZ)\n",
    "print(\"Valor de x : \", x)\n",
    "print(\"Valor de y : \", y)\n",
    "print(\"Valor de z : \", z)"
   ]
  },
  {
   "cell_type": "code",
   "execution_count": 9,
   "metadata": {},
   "outputs": [
    {
     "name": "stdout",
     "output_type": "stream",
     "text": [
      "(1, 2, 3, 4, 5, 6)\n"
     ]
    }
   ],
   "source": [
    "# Crear una tupla a partir de 2 tuplas\n",
    "tupla1 = (1, 2, 3)\n",
    "tupla2 = (4, 5, 6)\n",
    "tupla3 = tupla1 + tupla2\n",
    "print(tupla3)"
   ]
  },
  {
   "cell_type": "code",
   "execution_count": 10,
   "metadata": {},
   "outputs": [
    {
     "name": "stdout",
     "output_type": "stream",
     "text": [
      "2\n"
     ]
    }
   ],
   "source": [
    "# Contar las ocurrencias de un elemento en una tupla\n",
    "tupla_concurrencia = (1, 1, 1, 3, 3, 2, 2, 2, 2)\n",
    "print(tupla_concurrencia.count(3))"
   ]
  },
  {
   "cell_type": "code",
   "execution_count": 13,
   "metadata": {},
   "outputs": [
    {
     "name": "stdout",
     "output_type": "stream",
     "text": [
      "5\n"
     ]
    }
   ],
   "source": [
    "# Mostrar el índice de la primera ocurrencia de un elemento\n",
    "print(tupla_concurrencia.index(2))"
   ]
  }
 ],
 "metadata": {
  "kernelspec": {
   "display_name": "Python 3",
   "language": "python",
   "name": "python3"
  },
  "language_info": {
   "codemirror_mode": {
    "name": "ipython",
    "version": 3
   },
   "file_extension": ".py",
   "mimetype": "text/x-python",
   "name": "python",
   "nbconvert_exporter": "python",
   "pygments_lexer": "ipython3",
   "version": "3.12.1"
  }
 },
 "nbformat": 4,
 "nbformat_minor": 2
}

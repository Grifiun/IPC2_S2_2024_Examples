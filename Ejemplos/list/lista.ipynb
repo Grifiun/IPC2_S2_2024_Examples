{
 "cells": [
  {
   "cell_type": "code",
   "execution_count": 1,
   "metadata": {},
   "outputs": [
    {
     "name": "stdout",
     "output_type": "stream",
     "text": [
      "[1, 2, 'Hola a todos', ['Segunda lista elemento 1', 'Mucho contenido'], 'Ultimo valor']\n"
     ]
    }
   ],
   "source": [
    "# Una lista es un objeto mutable, se pueden cambiar los datos después de definidos\n",
    "\n",
    "lista = [1, 2, \"Hola a todos\", [\"Segunda lista elemento 1\", \"Mucho contenido\"], \"Ultimo valor\"]\n",
    "print(lista)"
   ]
  },
  {
   "cell_type": "code",
   "execution_count": 2,
   "metadata": {},
   "outputs": [
    {
     "name": "stdout",
     "output_type": "stream",
     "text": [
      "1\n",
      "Ultimo valor\n",
      "[2, 'Hola a todos']\n"
     ]
    }
   ],
   "source": [
    "# Acceso a listas\n",
    "# Inicia en la posición 0 en adelante, y -1 indica el último valor\n",
    "print(lista[0])  # posición 0\n",
    "\n",
    "print(lista[-1])  # Ultima posicion\n",
    "\n",
    "print(lista[1:3])  # se puede usar X:Y para indicar de rango X hasta Y"
   ]
  },
  {
   "cell_type": "code",
   "execution_count": 3,
   "metadata": {},
   "outputs": [
    {
     "name": "stdout",
     "output_type": "stream",
     "text": [
      "['Segunda lista elemento 1', 'Mucho contenido']\n"
     ]
    }
   ],
   "source": [
    "# Adicional a eso, si seguimos haciendo más pequeño el numero negativo como -2\n",
    "print(lista[-2])  # Penúltima posicion"
   ]
  },
  {
   "cell_type": "code",
   "execution_count": 4,
   "metadata": {},
   "outputs": [
    {
     "name": "stdout",
     "output_type": "stream",
     "text": [
      "Estos son los valores de la listaXYZ:  ['x', 'y', 'z']\n",
      "Valor de x :  x\n",
      "Valor de y :  y\n",
      "Valor de z :  z\n"
     ]
    }
   ],
   "source": [
    "# Asignar valores de una lista a variables\n",
    "listaXYZ = [\"x\", \"y\", \"z\"]\n",
    "x, y, z = listaXYZ\n",
    "print(\"Estos son los valores de la listaXYZ: \", listaXYZ)\n",
    "print(\"Valor de x : \", x)\n",
    "print(\"Valor de y : \", y)\n",
    "print(\"Valor de z : \", z)"
   ]
  },
  {
   "cell_type": "code",
   "execution_count": 5,
   "metadata": {},
   "outputs": [
    {
     "name": "stdout",
     "output_type": "stream",
     "text": [
      "[1, 2, 3, 4, 5, 6]\n"
     ]
    }
   ],
   "source": [
    "\n",
    "# Crear una lista a partir de 2 listas\n",
    "lista1 = [1, 2, 3]\n",
    "lista2 = [4, 5, 6]\n",
    "lista3 = lista1 + lista2\n",
    "print(lista3)"
   ]
  },
  {
   "cell_type": "code",
   "execution_count": 6,
   "metadata": {},
   "outputs": [
    {
     "name": "stdout",
     "output_type": "stream",
     "text": [
      "2\n"
     ]
    }
   ],
   "source": [
    "# Contar las ocurrencias de un elemento en una lista\n",
    "lista_concurrencia = [1, 1, 1, 3, 3, 2, 2, 2, 2]\n",
    "print(lista_concurrencia.count(3))"
   ]
  },
  {
   "cell_type": "code",
   "execution_count": 7,
   "metadata": {},
   "outputs": [
    {
     "name": "stdout",
     "output_type": "stream",
     "text": [
      "5\n"
     ]
    }
   ],
   "source": [
    "\n",
    "# Mostrar el índice de la primera ocurrencia de un elemento\n",
    "print(lista_concurrencia.index(2))"
   ]
  }
 ],
 "metadata": {
  "kernelspec": {
   "display_name": "Python 3",
   "language": "python",
   "name": "python3"
  },
  "language_info": {
   "codemirror_mode": {
    "name": "ipython",
    "version": 3
   },
   "file_extension": ".py",
   "mimetype": "text/x-python",
   "name": "python",
   "nbconvert_exporter": "python",
   "pygments_lexer": "ipython3",
   "version": "3.12.1"
  }
 },
 "nbformat": 4,
 "nbformat_minor": 2
}
